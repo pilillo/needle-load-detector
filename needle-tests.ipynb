{
 "cells": [
  {
   "cell_type": "code",
   "execution_count": 1,
   "metadata": {
    "collapsed": false,
    "scrolled": true
   },
   "outputs": [
    {
     "name": "stdout",
     "output_type": "stream",
     "text": [
      "1.0\n",
      "0.996790476924\n",
      "0.984771739332\n",
      "0.980412953408\n",
      "0.999999325213\n",
      "0.993907403974\n",
      "0.987714249929\n",
      "0.993283263385\n",
      "0.996095641946\n",
      "0.992299488886\n",
      "0.993932119026\n",
      "0.990585271638\n",
      "0.983963877095\n",
      "0.999364242388\n",
      "0.986055379778\n",
      "0.994893222213\n",
      "0.980009224664\n",
      "0.999046645813\n",
      "0.98405287\n",
      "0.99761549176\n",
      "0.991119545857\n",
      "0.992318614168\n",
      "0.988134739641\n",
      "0.98127084733\n",
      "0.983051648545\n",
      "0.982742780991\n",
      "-0.986905424932\n",
      "0.987013265128\n",
      "0.988425443627\n",
      "0.992762723017\n",
      "0.991072083386\n",
      "0.98315933054\n",
      "0.99152910171\n",
      "-0.981054343831\n",
      "Device 0 detected 18 times\n",
      "Device 1 detected 3 times\n",
      "Device 2 detected 10 times\n",
      "Device 3 detected 1 times\n",
      "Device 4 detected 2 times\n",
      "Device 5 detected 0 times\n",
      "Device 6 detected 0 times\n",
      "Device 7 detected 0 times\n",
      "Device 8 detected 0 times\n",
      "1.0\n",
      "0.996790476924\n",
      "0.984771739332\n",
      "0.980412953408\n",
      "0.999999325213\n",
      "0.993907403974\n",
      "0.987714249929\n",
      "0.993283263385\n",
      "0.996095641946\n",
      "0.992299488886\n",
      "0.993932119026\n",
      "0.990585271638\n",
      "0.983963877095\n",
      "0.999364242388\n",
      "0.986055379778\n",
      "0.994893222213\n",
      "0.980009224664\n",
      "0.999046645813\n",
      "0.98405287\n",
      "0.99761549176\n",
      "0.991119545857\n",
      "0.992318614168\n",
      "0.988134739641\n",
      "0.98127084733\n",
      "0.983051648545\n",
      "0.982742780991\n",
      "-0.986905424932\n",
      "0.987013265128\n",
      "0.988425443627\n",
      "0.992762723017\n",
      "0.991072083386\n",
      "0.98315933054\n",
      "0.99152910171\n",
      "-0.981054343831\n",
      "Device 0 detected 18 times\n",
      "Device 1 detected 3 times\n",
      "Device 2 detected 10 times\n",
      "Device 3 detected 1 times\n",
      "Device 4 detected 2 times\n",
      "Device 5 detected 0 times\n",
      "Device 6 detected 0 times\n",
      "Device 7 detected 0 times\n",
      "Device 8 detected 0 times\n"
     ]
    },
    {
     "name": "stderr",
     "output_type": "stream",
     "text": [
      "/opt/local/Library/Frameworks/Python.framework/Versions/2.7/lib/python2.7/site-packages/matplotlib/pyplot.py:424: RuntimeWarning: More than 20 figures have been opened. Figures created through the pyplot interface (`matplotlib.pyplot.figure`) are retained until explicitly closed and may consume too much memory. (To control this warning, see the rcParam `figure.max_open_warning`).\n",
      "  max_open_warning, RuntimeWarning)\n"
     ]
    }
   ],
   "source": [
    "from load_disaggregator import *\n",
    "\n",
    "# building 1    \n",
    "devices = ['000D6F00036BB04C', '000D6F00029C2BD7', '000D6F000353AC8C', '000D6F0003562E10', '000D6F0003562C48', '000D6F00029C2984', '000D6F000353AE51', '000D6F0003562C0F', '000D6F0003562BF6']\n",
    "\n",
    "dataset_folder = \"/Users/andreamonacchi/Downloads/GREEND_0-2_300615/\"\n",
    "template_folder = \"/Users/andreamonacchi/Desktop/\"\n",
    "        \n",
    "processor = DatasetProcessor(dataset_folder)        \n",
    "df = processor.get_dataframe(1, 4)\n",
    "\n",
    "ax = df.plot(legend=False)\n",
    "patches, labels = ax.get_legend_handles_labels()\n",
    "ax.legend(patches, labels, bbox_to_anchor=(1, 1), loc='upper left', ncol=1)"
   ]
  },
  {
   "cell_type": "code",
   "execution_count": 2,
   "metadata": {
    "collapsed": false
   },
   "outputs": [
    {
     "data": {
      "text/plain": [
       "<matplotlib.axes._subplots.AxesSubplot at 0x10ca50150>"
      ]
     },
     "execution_count": 2,
     "metadata": {},
     "output_type": "execute_result"
    }
   ],
   "source": [
    "# preprocess the dataset\n",
    "preprocessed = processor.remove_holes()             # fill with our method (pad and bfill)\n",
    "preprocessed = processor.uniform_period()           # makes sure the signal is at 1Hz\n",
    "preprocessed = processor.remove_noise(sizes=[30]*9) # median filter over 30 consecutive samples\n",
    "preprocessed = processor.downsample('10S')          # downsample to 1/10 Hz (should make device signature even more similar by removing spikes)\n",
    "preprocessed.plot(title=\"Preprocessed signal\")"
   ]
  },
  {
   "cell_type": "code",
   "execution_count": 3,
   "metadata": {
    "collapsed": true
   },
   "outputs": [],
   "source": [
    "# get the datastore (from disk)\n",
    "processor.get_datastore(template_folder+\"dev_signatures.h5\")"
   ]
  },
  {
   "cell_type": "code",
   "execution_count": null,
   "metadata": {
    "collapsed": true
   },
   "outputs": [],
   "source": [
    "# switch between signature extraction and load disaggregation\n",
    "extract = False\n",
    "\n",
    "if extract:    \n",
    "    # Extract signatures for individual devices\n",
    "    #disagg = processor.get_disaggregated_signal(devices[1])\n",
    "    #disagg.plot()\n",
    "    \n",
    "    # Device 0 (fridge)\n",
    "    ##signature = processor.select_time_interval('08:18:40', '08:28:40')[devices[0]]\n",
    "    signature0 = processor.select_datetime_interval('2014-03-12 08:18:40', '2014-03-12 08:29:00')[devices[0]]\n",
    "    processor.add_signature('devices/d0', signature0)\n",
    "    \n",
    "    #Device 1 (dishwasher)\n",
    "    signature1 = processor.select_datetime_interval('2014-03-13 10:28:30',  '2014-03-13 11:45:00')[devices[1]]\n",
    "    processor.add_signature('devices/d1', signature1)\n",
    "    \n",
    "    # Device 2 (microwave)\n",
    "    ##signature = processor.select_time_interval('18:24:40', '18:26:20')[devices[2]]\n",
    "    signature2 = processor.select_datetime_interval('2014-03-12 18:24:40',  '2014-03-12 18:26:20')[devices[2]]\n",
    "    processor.add_signature('devices/d2', signature2)\n",
    "\n",
    "    # Device 3 water kettle\n",
    "    signature3 = processor.select_datetime_interval('2014-03-15 08:32:00', '2014-03-15 08:42:20')[devices[3]]    \n",
    "    processor.add_signature('devices/d3', signature3)\n",
    "\n",
    "    # Device 4\n",
    "    signature4 = processor.select_datetime_interval('2014-03-13 18:32:00', '2014-03-13 19:58:30')[devices[4]]    # on the second day (that is why we use datetime)\n",
    "    processor.add_signature('devices/d4', signature4)\n",
    "\n",
    "    # Device 5 (amplifier)\n",
    "    #signature = processor.select_time_interval('18:24:40', '18:26:20')[devices[5]]\n",
    "    #signature5 = processor.select_datetime_interval('2014-03-12 18:24:40', '2014-03-12 18:26:20')[devices[5]]\n",
    "    #processor.add_signature('devices/d5', signature5)\n",
    "\n",
    "    # Device 6 (hair dryer + charger )\n",
    "    signature6 = processor.select_datetime_interval('2014-03-15 10:03:45', '2014-03-15 10:06:30')[devices[6]]\n",
    "    processor.add_signature('devices/d6', signature6)\n",
    "\n",
    "    # Device 7 (food processor) --> neverused\n",
    "    #signature = processor.select_datetime_interval('', '')[devices[7]]\n",
    "    \n",
    "    # Device 8 Bedside lamp\n",
    "    signature8 = processor.select_datetime_interval('2014-03-13 22:27:45', '2014-03-13 22:37:40')[devices[8]]\n",
    "    processor.add_signature('devices/d8', signature8)\n",
    "\n",
    "    #plt.figure()\n",
    "    #signature.plot(legend=False)\n",
    "    \n",
    "else:\n",
    "    # select a template and attempt the disaggregation\n",
    "    templates = [processor.get_signature('devices/d0'), processor.get_signature('devices/d1'), processor.get_signature('devices/d2'), processor.get_signature('devices/d3'), processor.get_signature('devices/d4'), None, \n",
    "                 None, #processor.get_signature('devices/d6'),\n",
    "                 None, None] # processor.get_signature('devices/d8') ]\n",
    "        \n",
    "    \"\"\"\n",
    "    for i, t in enumerate(templates):\n",
    "        if t is not None and (not t.empty):\n",
    "            #print( t )\n",
    "            plt.figure()\n",
    "            t.plot(title=\"device_\"+str(i))\n",
    "    \"\"\"\n",
    "    \n",
    "    #plt.figure()\n",
    "    agg = processor.get_aggregated_signal()\n",
    "    #agg.plot()\n",
    "        \n",
    "    disaggregator = BatchLoadDisaggregator( templates )\n",
    "    \n",
    "    \"\"\"\n",
    "    d_id = 4\n",
    "    counts = disaggregator.disaggregate_dataframe(agg, device_id=d_id, min_corr=0.9)\n",
    "    print \"Device \"+str(d_id)+\" detected \"+str(counts[d_id])+\" times\"\n",
    "    print \"MAX CORR: \", disaggregator.get_max_corr()\n",
    "    \"\"\"\n",
    "\n",
    "    counts = disaggregator.disaggregate_dataframe(agg, device_id=-1, min_corr=0.98, step_size=1)\n",
    "    for i, c in enumerate(counts):\n",
    "        print( \"Device \"+str(i)+\" detected \"+str(c)+\" times\" )"
   ]
  },
  {
   "cell_type": "code",
   "execution_count": null,
   "metadata": {
    "collapsed": true
   },
   "outputs": [],
   "source": [
    "# plot the resulting detected windows\n",
    "plt.show()"
   ]
  },
  {
   "cell_type": "code",
   "execution_count": 4,
   "metadata": {
    "collapsed": true
   },
   "outputs": [],
   "source": [
    "# good practice to close the datastore\n",
    "processor.close_datastore()"
   ]
  },
  {
   "cell_type": "code",
   "execution_count": null,
   "metadata": {
    "collapsed": true
   },
   "outputs": [],
   "source": []
  }
 ],
 "metadata": {
  "kernelspec": {
   "display_name": "Python 2",
   "language": "python",
   "name": "python2"
  },
  "language_info": {
   "codemirror_mode": {
    "name": "ipython",
    "version": 2
   },
   "file_extension": ".py",
   "mimetype": "text/x-python",
   "name": "python",
   "nbconvert_exporter": "python",
   "pygments_lexer": "ipython2",
   "version": "2.7.10"
  }
 },
 "nbformat": 4,
 "nbformat_minor": 0
}
